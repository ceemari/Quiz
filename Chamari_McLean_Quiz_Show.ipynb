{
  "nbformat": 4,
  "nbformat_minor": 0,
  "metadata": {
    "colab": {
      "provenance": [],
      "include_colab_link": true
    },
    "kernelspec": {
      "name": "python3",
      "display_name": "Python 3"
    },
    "language_info": {
      "name": "python"
    }
  },
  "cells": [
    {
      "cell_type": "markdown",
      "metadata": {
        "id": "view-in-github",
        "colab_type": "text"
      },
      "source": [
        "<a href=\"https://colab.research.google.com/github/ceemari/Quiz/blob/main/Chamari_McLean_Quiz_Show.ipynb\" target=\"_parent\"><img src=\"https://colab.research.google.com/assets/colab-badge.svg\" alt=\"Open In Colab\"/></a>"
      ]
    },
    {
      "cell_type": "markdown",
      "source": [
        "# Project: Quiz Show\n",
        "\n",
        "This week, we're going to create something fun - a Quiz Game!\n",
        "\n",
        "We'll write a program that asks the user a series of True or False questions, records their answers, and tells them how many questions they answered correctly!\n",
        "\n",
        "To make sure our game runs smoothly, we'll use Input Validation to make sure the user can only answer true or false. Of course, we'll also be using our skills from last week, and leveraging Control Flow to determine how well the user is doing at each step of the game!\n",
        "\n",
        "Feel free to add your own twists and fun ideas to this project - the more it stands out, the better it will look in your portfolio!\n",
        "\n",
        "Let's get started!"
      ],
      "metadata": {
        "id": "drqzsCFLak8m"
      }
    },
    {
      "cell_type": "code",
      "source": [
        "import time\n",
        "# Intro and rules display\n",
        "def display_title():\n",
        "    print(\"\"\"\n",
        "    **************************************\n",
        "    *    Welcome to the Quiz!   *\n",
        "    **************************************\n",
        "    \"\"\")\n",
        "    print(\"Rules:\")\n",
        "    print(\"-  Answer each question with T for true or F for False.\")\n",
        "    print(\"-  You must enter a real response or you will be prompted again.\")\n",
        "    print(\"-  Your score will be displayed at the end.\")\n",
        "# Define questions\n",
        "    def ask_questions():\n",
        "        questions = (\n",
        "            \"Python is a compiled language. (T/F)\",\n",
        "            \"The Earth is flat. (T/F)\"\n",
        "            \"2 + 2 equals 4. (T/F)\"\n",
        "        )\n",
        "# Answers\n",
        "        answers = ('F','F', 'T')\n"
      ],
      "metadata": {
        "id": "TAFPj_RBgo7o"
      },
      "execution_count": null,
      "outputs": []
    }
  ]
}